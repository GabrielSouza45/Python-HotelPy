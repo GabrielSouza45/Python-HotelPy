{
 "cells": [
  {
   "cell_type": "code",
   "execution_count": null,
   "id": "78a35084",
   "metadata": {},
   "outputs": [],
   "source": [
    "from cliente import Cliente\n",
    "from datetime import date\n",
    "\n",
    "class Hospede:\n",
    "    def __init__(self):\n",
    "        self._cliente = \"\"\n",
    "        self._quarto = 0\n",
    "        self._andar = 0\n",
    "        self._edificio = 0\n",
    "        self._dataEntrada = None\n",
    "        self._dataVencimento = None\n",
    "        self._dataSaida = None\n",
    "    \n",
    "    def getCliente(self):\n",
    "        return self._cliente\n",
    "    \n",
    "    def setCliente(self, cliente):\n",
    "        self._cliente = cliente\n",
    "    \n",
    "    def getQuarto(self):\n",
    "        return self._quarto\n",
    "    \n",
    "    def setQuarto(self, quarto):\n",
    "        self._quarto = quarto\n",
    "    \n",
    "    def getAndar(self):\n",
    "        return self._andar\n",
    "    \n",
    "    def setAndar(self, andar):\n",
    "        self._andar = andar\n",
    "    \n",
    "    def getEdificio(self):\n",
    "        return self._edificio\n",
    "    \n",
    "    def setEdificio(self, edificio):\n",
    "        self._edificio = edificio\n",
    "    \n",
    "    def getDataEntrada(self):\n",
    "        return self._dataEntrada\n",
    "    \n",
    "    def setDataEntrada(self, ano, mes, dia):\n",
    "        self._dataEntrada = date(ano, mes, dia)\n",
    "    \n",
    "    def getDataVencimento(self):\n",
    "        return self._dataVencimento\n",
    "    \n",
    "    def setDataVencimento(self, ano, mes, dia):\n",
    "        self._dataVencimento = date(ano, mes, dia)\n",
    "        \n",
    "    def getDataSaida(self):\n",
    "        return self._dataSaida\n",
    "    \n",
    "    def setDataSaida(self, ano, mes, dia):\n",
    "        self._dataSaida = date(ano, mes, dia)\n",
    "        \n",
    "    "
   ]
  },
  {
   "cell_type": "code",
   "execution_count": null,
   "id": "8d97b2fb",
   "metadata": {},
   "outputs": [],
   "source": []
  },
  {
   "cell_type": "code",
   "execution_count": null,
   "id": "b2ca5004",
   "metadata": {},
   "outputs": [],
   "source": []
  }
 ],
 "metadata": {
  "kernelspec": {
   "display_name": "Python 3 (ipykernel)",
   "language": "python",
   "name": "python3"
  },
  "language_info": {
   "codemirror_mode": {
    "name": "ipython",
    "version": 3
   },
   "file_extension": ".py",
   "mimetype": "text/x-python",
   "name": "python",
   "nbconvert_exporter": "python",
   "pygments_lexer": "ipython3",
   "version": "3.11.3"
  }
 },
 "nbformat": 4,
 "nbformat_minor": 5
}

{
 "cells": [
  {
   "cell_type": "code",
   "execution_count": 1,
   "id": "d1d17703",
   "metadata": {},
   "outputs": [
    {
     "ename": "ModuleNotFoundError",
     "evalue": "No module named 'Cliente'",
     "output_type": "error",
     "traceback": [
      "\u001b[1;31m---------------------------------------------------------------------------\u001b[0m",
      "\u001b[1;31mModuleNotFoundError\u001b[0m                       Traceback (most recent call last)",
      "Cell \u001b[1;32mIn[1], line 1\u001b[0m\n\u001b[1;32m----> 1\u001b[0m \u001b[38;5;28;01mfrom\u001b[39;00m \u001b[38;5;21;01mCliente\u001b[39;00m \u001b[38;5;28;01mimport\u001b[39;00m cliente\n\u001b[0;32m      2\u001b[0m \u001b[38;5;28;01mfrom\u001b[39;00m \u001b[38;5;21;01mdatetime\u001b[39;00m \u001b[38;5;28;01mimport\u001b[39;00m date\n\u001b[0;32m      4\u001b[0m \u001b[38;5;28;01mclass\u001b[39;00m \u001b[38;5;21;01mHospede\u001b[39;00m:\n",
      "\u001b[1;31mModuleNotFoundError\u001b[0m: No module named 'Cliente'"
     ]
    }
   ],
   "source": [
    "from Cliente import cliente\n",
    "from datetime import date\n",
    "\n",
    "class Hospede:\n",
    "    def __init__(self):\n",
    "        self._cliente = \"\"\n",
    "        self._quarto = 0\n",
    "        self._andar = 0\n",
    "        self._edificio = 0\n",
    "        self._dataEntrada = None\n",
    "        self._dataVencimento = None\n",
    "        self._dataSaida = None\n",
    "    \n",
    "    def getCliente(self):\n",
    "        return self._cliente\n",
    "    \n",
    "    def setCliente(self, cliente):\n",
    "        self._cliente = cliente\n",
    "    \n",
    "    def getQuarto(self):\n",
    "        return self._quarto\n",
    "    \n",
    "    def setQuarto(self, quarto):\n",
    "        self._quarto = quarto\n",
    "    \n",
    "    def getAndar(self):\n",
    "        return self._andar\n",
    "    \n",
    "    def setAndar(self, andar):\n",
    "        self._andar = andar\n",
    "    \n",
    "    def getEdificio(self):\n",
    "        return self._edificio\n",
    "    \n",
    "    def setEdificio(self, edificio):\n",
    "        self._edificio = edificio\n",
    "    \n",
    "    def getDataEntrada(self):\n",
    "        return self._dataEntrada\n",
    "    \n",
    "    def setDataEntrada(self, ano, mes, dia):\n",
    "        self._dataEntrada = date(ano, mes, dia)\n",
    "    \n",
    "    def getDataVencimento(self):\n",
    "        return self._dataVencimento\n",
    "    \n",
    "    def setDataVencimento(self, ano, mes, dia):\n",
    "        self._dataVencimento = date(ano, mes, dia)\n",
    "        \n",
    "    def getDataSaida(self):\n",
    "        return self._dataSaida\n",
    "    \n",
    "    def setDataSaida(self, ano, mes, dia):\n",
    "        self._dataSaida = date(ano, mes, dia)\n",
    "        \n",
    "    "
   ]
  },
  {
   "cell_type": "code",
   "execution_count": null,
   "id": "c299ce8d",
   "metadata": {},
   "outputs": [],
   "source": []
  }
 ],
 "metadata": {
  "kernelspec": {
   "display_name": "Python 3 (ipykernel)",
   "language": "python",
   "name": "python3"
  },
  "language_info": {
   "codemirror_mode": {
    "name": "ipython",
    "version": 3
   },
   "file_extension": ".py",
   "mimetype": "text/x-python",
   "name": "python",
   "nbconvert_exporter": "python",
   "pygments_lexer": "ipython3",
   "version": "3.10.9"
  }
 },
 "nbformat": 4,
 "nbformat_minor": 5
}

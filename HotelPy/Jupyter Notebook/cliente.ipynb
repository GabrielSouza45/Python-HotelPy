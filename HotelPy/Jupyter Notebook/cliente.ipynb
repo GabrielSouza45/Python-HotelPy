{
 "cells": [
  {
   "cell_type": "code",
   "execution_count": 1,
   "id": "0fb41314",
   "metadata": {},
   "outputs": [],
   "source": [
    "class Cliente: \n",
    "    def __init__(self):\n",
    "        self._nome = \"\"\n",
    "        self._cpf = \"\"\n",
    "        self._telefone = \"\"\n",
    "        self._email = \"\"\n",
    "        \n",
    "    def getNome(self):\n",
    "        return self._nome\n",
    "    \n",
    "    def setNome(self, nome):\n",
    "        self._nome = nome\n",
    "    \n",
    "    def getCpf(self):\n",
    "        return self._cpf\n",
    "    \n",
    "    def setCpf(self, cpf):\n",
    "        self._cpf = cpf\n",
    "    \n",
    "    def getTelefone(self):\n",
    "        return self._telefone\n",
    "    \n",
    "    def setTelefone(self, telefone):\n",
    "        self._telefone = telefone\n",
    "    \n",
    "    def getEmail(self):\n",
    "        return self._email\n",
    "    \n",
    "    def setEmail(self, email):\n",
    "        self._email = email"
   ]
  },
  {
   "cell_type": "code",
   "execution_count": null,
   "id": "e96088d4",
   "metadata": {},
   "outputs": [],
   "source": []
  }
 ],
 "metadata": {
  "kernelspec": {
   "display_name": "Python 3 (ipykernel)",
   "language": "python",
   "name": "python3"
  },
  "language_info": {
   "codemirror_mode": {
    "name": "ipython",
    "version": 3
   },
   "file_extension": ".py",
   "mimetype": "text/x-python",
   "name": "python",
   "nbconvert_exporter": "python",
   "pygments_lexer": "ipython3",
   "version": "3.10.9"
  }
 },
 "nbformat": 4,
 "nbformat_minor": 5
}
